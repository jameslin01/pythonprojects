{
 "cells": [
  {
   "cell_type": "code",
   "execution_count": 1,
   "metadata": {},
   "outputs": [],
   "source": [
    "# Import Libraries\n",
    "import requests\n",
    "import numpy as np\n",
    "import pandas as pd\n",
    "from datetime import datetime\n",
    "from dateutil.relativedelta import relativedelta"
   ]
  },
  {
   "cell_type": "code",
   "execution_count": 2,
   "metadata": {},
   "outputs": [],
   "source": [
    "# The list of 20 type of cryptocurrency\n",
    "\n",
    "coin_list = ['BTC', 'ETH', 'XRP', 'ADA', 'USDT', 'DOGE', 'XLM', 'DOT', 'UNI', 'UNI', 'LINK', 'USDC' 'BCH' 'LTC', 'GRT', 'ETC', 'FIL', 'AAVE', 'ALGO', 'EOS']"
   ]
  },
  {
   "cell_type": "code",
   "execution_count": 3,
   "metadata": {},
   "outputs": [],
   "source": [
    "# Define the dataframe\n",
    "\n",
    "main_df = pd.DataFrame()"
   ]
  },
  {
   "cell_type": "code",
   "execution_count": 6,
   "metadata": {},
   "outputs": [
    {
     "name": "stderr",
     "output_type": "stream",
     "text": [
      "/var/folders/s5/qk1q_v9s245f9h_m0zc4b0v00000gn/T/ipykernel_32450/1616070760.py:49: FutureWarning: The frame.append method is deprecated and will be removed from pandas in a future version. Use pandas.concat instead.\n",
      "  coin_df = df.append([coin_df])\n"
     ]
    },
    {
     "name": "stdout",
     "output_type": "stream",
     "text": [
      "1 mismatched.\n"
     ]
    },
    {
     "name": "stderr",
     "output_type": "stream",
     "text": [
      "/var/folders/s5/qk1q_v9s245f9h_m0zc4b0v00000gn/T/ipykernel_32450/1616070760.py:42: FutureWarning: The frame.append method is deprecated and will be removed from pandas in a future version. Use pandas.concat instead.\n",
      "  df = df.loc[:insert_ids].append([temp_df]).append(df.loc[insert_ids+1:]).reset_index(drop=True)\n",
      "/var/folders/s5/qk1q_v9s245f9h_m0zc4b0v00000gn/T/ipykernel_32450/1616070760.py:49: FutureWarning: The frame.append method is deprecated and will be removed from pandas in a future version. Use pandas.concat instead.\n",
      "  coin_df = df.append([coin_df])\n",
      "/var/folders/s5/qk1q_v9s245f9h_m0zc4b0v00000gn/T/ipykernel_32450/1616070760.py:53: FutureWarning: The frame.append method is deprecated and will be removed from pandas in a future version. Use pandas.concat instead.\n",
      "  main_df = main_df.append([coin_df])\n",
      "/var/folders/s5/qk1q_v9s245f9h_m0zc4b0v00000gn/T/ipykernel_32450/1616070760.py:49: FutureWarning: The frame.append method is deprecated and will be removed from pandas in a future version. Use pandas.concat instead.\n",
      "  coin_df = df.append([coin_df])\n"
     ]
    },
    {
     "name": "stdout",
     "output_type": "stream",
     "text": [
      "1 mismatched.\n"
     ]
    },
    {
     "name": "stderr",
     "output_type": "stream",
     "text": [
      "/var/folders/s5/qk1q_v9s245f9h_m0zc4b0v00000gn/T/ipykernel_32450/1616070760.py:42: FutureWarning: The frame.append method is deprecated and will be removed from pandas in a future version. Use pandas.concat instead.\n",
      "  df = df.loc[:insert_ids].append([temp_df]).append(df.loc[insert_ids+1:]).reset_index(drop=True)\n",
      "/var/folders/s5/qk1q_v9s245f9h_m0zc4b0v00000gn/T/ipykernel_32450/1616070760.py:49: FutureWarning: The frame.append method is deprecated and will be removed from pandas in a future version. Use pandas.concat instead.\n",
      "  coin_df = df.append([coin_df])\n",
      "/var/folders/s5/qk1q_v9s245f9h_m0zc4b0v00000gn/T/ipykernel_32450/1616070760.py:53: FutureWarning: The frame.append method is deprecated and will be removed from pandas in a future version. Use pandas.concat instead.\n",
      "  main_df = main_df.append([coin_df])\n",
      "/var/folders/s5/qk1q_v9s245f9h_m0zc4b0v00000gn/T/ipykernel_32450/1616070760.py:49: FutureWarning: The frame.append method is deprecated and will be removed from pandas in a future version. Use pandas.concat instead.\n",
      "  coin_df = df.append([coin_df])\n"
     ]
    },
    {
     "name": "stdout",
     "output_type": "stream",
     "text": [
      "1 mismatched.\n"
     ]
    },
    {
     "name": "stderr",
     "output_type": "stream",
     "text": [
      "/var/folders/s5/qk1q_v9s245f9h_m0zc4b0v00000gn/T/ipykernel_32450/1616070760.py:42: FutureWarning: The frame.append method is deprecated and will be removed from pandas in a future version. Use pandas.concat instead.\n",
      "  df = df.loc[:insert_ids].append([temp_df]).append(df.loc[insert_ids+1:]).reset_index(drop=True)\n",
      "/var/folders/s5/qk1q_v9s245f9h_m0zc4b0v00000gn/T/ipykernel_32450/1616070760.py:49: FutureWarning: The frame.append method is deprecated and will be removed from pandas in a future version. Use pandas.concat instead.\n",
      "  coin_df = df.append([coin_df])\n",
      "/var/folders/s5/qk1q_v9s245f9h_m0zc4b0v00000gn/T/ipykernel_32450/1616070760.py:53: FutureWarning: The frame.append method is deprecated and will be removed from pandas in a future version. Use pandas.concat instead.\n",
      "  main_df = main_df.append([coin_df])\n",
      "/var/folders/s5/qk1q_v9s245f9h_m0zc4b0v00000gn/T/ipykernel_32450/1616070760.py:49: FutureWarning: The frame.append method is deprecated and will be removed from pandas in a future version. Use pandas.concat instead.\n",
      "  coin_df = df.append([coin_df])\n"
     ]
    },
    {
     "name": "stdout",
     "output_type": "stream",
     "text": [
      "1 mismatched.\n"
     ]
    },
    {
     "name": "stderr",
     "output_type": "stream",
     "text": [
      "/var/folders/s5/qk1q_v9s245f9h_m0zc4b0v00000gn/T/ipykernel_32450/1616070760.py:42: FutureWarning: The frame.append method is deprecated and will be removed from pandas in a future version. Use pandas.concat instead.\n",
      "  df = df.loc[:insert_ids].append([temp_df]).append(df.loc[insert_ids+1:]).reset_index(drop=True)\n",
      "/var/folders/s5/qk1q_v9s245f9h_m0zc4b0v00000gn/T/ipykernel_32450/1616070760.py:49: FutureWarning: The frame.append method is deprecated and will be removed from pandas in a future version. Use pandas.concat instead.\n",
      "  coin_df = df.append([coin_df])\n",
      "/var/folders/s5/qk1q_v9s245f9h_m0zc4b0v00000gn/T/ipykernel_32450/1616070760.py:53: FutureWarning: The frame.append method is deprecated and will be removed from pandas in a future version. Use pandas.concat instead.\n",
      "  main_df = main_df.append([coin_df])\n",
      "/var/folders/s5/qk1q_v9s245f9h_m0zc4b0v00000gn/T/ipykernel_32450/1616070760.py:49: FutureWarning: The frame.append method is deprecated and will be removed from pandas in a future version. Use pandas.concat instead.\n",
      "  coin_df = df.append([coin_df])\n"
     ]
    },
    {
     "name": "stdout",
     "output_type": "stream",
     "text": [
      "1 mismatched.\n"
     ]
    },
    {
     "name": "stderr",
     "output_type": "stream",
     "text": [
      "/var/folders/s5/qk1q_v9s245f9h_m0zc4b0v00000gn/T/ipykernel_32450/1616070760.py:42: FutureWarning: The frame.append method is deprecated and will be removed from pandas in a future version. Use pandas.concat instead.\n",
      "  df = df.loc[:insert_ids].append([temp_df]).append(df.loc[insert_ids+1:]).reset_index(drop=True)\n",
      "/var/folders/s5/qk1q_v9s245f9h_m0zc4b0v00000gn/T/ipykernel_32450/1616070760.py:49: FutureWarning: The frame.append method is deprecated and will be removed from pandas in a future version. Use pandas.concat instead.\n",
      "  coin_df = df.append([coin_df])\n",
      "/var/folders/s5/qk1q_v9s245f9h_m0zc4b0v00000gn/T/ipykernel_32450/1616070760.py:53: FutureWarning: The frame.append method is deprecated and will be removed from pandas in a future version. Use pandas.concat instead.\n",
      "  main_df = main_df.append([coin_df])\n",
      "/var/folders/s5/qk1q_v9s245f9h_m0zc4b0v00000gn/T/ipykernel_32450/1616070760.py:49: FutureWarning: The frame.append method is deprecated and will be removed from pandas in a future version. Use pandas.concat instead.\n",
      "  coin_df = df.append([coin_df])\n"
     ]
    },
    {
     "name": "stdout",
     "output_type": "stream",
     "text": [
      "1 mismatched.\n"
     ]
    },
    {
     "name": "stderr",
     "output_type": "stream",
     "text": [
      "/var/folders/s5/qk1q_v9s245f9h_m0zc4b0v00000gn/T/ipykernel_32450/1616070760.py:42: FutureWarning: The frame.append method is deprecated and will be removed from pandas in a future version. Use pandas.concat instead.\n",
      "  df = df.loc[:insert_ids].append([temp_df]).append(df.loc[insert_ids+1:]).reset_index(drop=True)\n",
      "/var/folders/s5/qk1q_v9s245f9h_m0zc4b0v00000gn/T/ipykernel_32450/1616070760.py:49: FutureWarning: The frame.append method is deprecated and will be removed from pandas in a future version. Use pandas.concat instead.\n",
      "  coin_df = df.append([coin_df])\n",
      "/var/folders/s5/qk1q_v9s245f9h_m0zc4b0v00000gn/T/ipykernel_32450/1616070760.py:53: FutureWarning: The frame.append method is deprecated and will be removed from pandas in a future version. Use pandas.concat instead.\n",
      "  main_df = main_df.append([coin_df])\n",
      "/var/folders/s5/qk1q_v9s245f9h_m0zc4b0v00000gn/T/ipykernel_32450/1616070760.py:49: FutureWarning: The frame.append method is deprecated and will be removed from pandas in a future version. Use pandas.concat instead.\n",
      "  coin_df = df.append([coin_df])\n"
     ]
    },
    {
     "name": "stdout",
     "output_type": "stream",
     "text": [
      "1 mismatched.\n"
     ]
    },
    {
     "name": "stderr",
     "output_type": "stream",
     "text": [
      "/var/folders/s5/qk1q_v9s245f9h_m0zc4b0v00000gn/T/ipykernel_32450/1616070760.py:42: FutureWarning: The frame.append method is deprecated and will be removed from pandas in a future version. Use pandas.concat instead.\n",
      "  df = df.loc[:insert_ids].append([temp_df]).append(df.loc[insert_ids+1:]).reset_index(drop=True)\n",
      "/var/folders/s5/qk1q_v9s245f9h_m0zc4b0v00000gn/T/ipykernel_32450/1616070760.py:49: FutureWarning: The frame.append method is deprecated and will be removed from pandas in a future version. Use pandas.concat instead.\n",
      "  coin_df = df.append([coin_df])\n",
      "/var/folders/s5/qk1q_v9s245f9h_m0zc4b0v00000gn/T/ipykernel_32450/1616070760.py:53: FutureWarning: The frame.append method is deprecated and will be removed from pandas in a future version. Use pandas.concat instead.\n",
      "  main_df = main_df.append([coin_df])\n",
      "/var/folders/s5/qk1q_v9s245f9h_m0zc4b0v00000gn/T/ipykernel_32450/1616070760.py:49: FutureWarning: The frame.append method is deprecated and will be removed from pandas in a future version. Use pandas.concat instead.\n",
      "  coin_df = df.append([coin_df])\n",
      "/var/folders/s5/qk1q_v9s245f9h_m0zc4b0v00000gn/T/ipykernel_32450/1616070760.py:42: FutureWarning: The frame.append method is deprecated and will be removed from pandas in a future version. Use pandas.concat instead.\n",
      "  df = df.loc[:insert_ids].append([temp_df]).append(df.loc[insert_ids+1:]).reset_index(drop=True)\n",
      "/var/folders/s5/qk1q_v9s245f9h_m0zc4b0v00000gn/T/ipykernel_32450/1616070760.py:49: FutureWarning: The frame.append method is deprecated and will be removed from pandas in a future version. Use pandas.concat instead.\n",
      "  coin_df = df.append([coin_df])\n",
      "/var/folders/s5/qk1q_v9s245f9h_m0zc4b0v00000gn/T/ipykernel_32450/1616070760.py:53: FutureWarning: The frame.append method is deprecated and will be removed from pandas in a future version. Use pandas.concat instead.\n",
      "  main_df = main_df.append([coin_df])\n"
     ]
    },
    {
     "name": "stdout",
     "output_type": "stream",
     "text": [
      "1 mismatched.\n"
     ]
    },
    {
     "name": "stderr",
     "output_type": "stream",
     "text": [
      "/var/folders/s5/qk1q_v9s245f9h_m0zc4b0v00000gn/T/ipykernel_32450/1616070760.py:49: FutureWarning: The frame.append method is deprecated and will be removed from pandas in a future version. Use pandas.concat instead.\n",
      "  coin_df = df.append([coin_df])\n"
     ]
    },
    {
     "name": "stdout",
     "output_type": "stream",
     "text": [
      "1 mismatched.\n"
     ]
    },
    {
     "name": "stderr",
     "output_type": "stream",
     "text": [
      "/var/folders/s5/qk1q_v9s245f9h_m0zc4b0v00000gn/T/ipykernel_32450/1616070760.py:42: FutureWarning: The frame.append method is deprecated and will be removed from pandas in a future version. Use pandas.concat instead.\n",
      "  df = df.loc[:insert_ids].append([temp_df]).append(df.loc[insert_ids+1:]).reset_index(drop=True)\n",
      "/var/folders/s5/qk1q_v9s245f9h_m0zc4b0v00000gn/T/ipykernel_32450/1616070760.py:49: FutureWarning: The frame.append method is deprecated and will be removed from pandas in a future version. Use pandas.concat instead.\n",
      "  coin_df = df.append([coin_df])\n",
      "/var/folders/s5/qk1q_v9s245f9h_m0zc4b0v00000gn/T/ipykernel_32450/1616070760.py:53: FutureWarning: The frame.append method is deprecated and will be removed from pandas in a future version. Use pandas.concat instead.\n",
      "  main_df = main_df.append([coin_df])\n",
      "/var/folders/s5/qk1q_v9s245f9h_m0zc4b0v00000gn/T/ipykernel_32450/1616070760.py:49: FutureWarning: The frame.append method is deprecated and will be removed from pandas in a future version. Use pandas.concat instead.\n",
      "  coin_df = df.append([coin_df])\n",
      "/var/folders/s5/qk1q_v9s245f9h_m0zc4b0v00000gn/T/ipykernel_32450/1616070760.py:42: FutureWarning: The frame.append method is deprecated and will be removed from pandas in a future version. Use pandas.concat instead.\n",
      "  df = df.loc[:insert_ids].append([temp_df]).append(df.loc[insert_ids+1:]).reset_index(drop=True)\n",
      "/var/folders/s5/qk1q_v9s245f9h_m0zc4b0v00000gn/T/ipykernel_32450/1616070760.py:49: FutureWarning: The frame.append method is deprecated and will be removed from pandas in a future version. Use pandas.concat instead.\n",
      "  coin_df = df.append([coin_df])\n",
      "/var/folders/s5/qk1q_v9s245f9h_m0zc4b0v00000gn/T/ipykernel_32450/1616070760.py:53: FutureWarning: The frame.append method is deprecated and will be removed from pandas in a future version. Use pandas.concat instead.\n",
      "  main_df = main_df.append([coin_df])\n"
     ]
    },
    {
     "name": "stdout",
     "output_type": "stream",
     "text": [
      "1 mismatched.\n"
     ]
    },
    {
     "name": "stderr",
     "output_type": "stream",
     "text": [
      "/var/folders/s5/qk1q_v9s245f9h_m0zc4b0v00000gn/T/ipykernel_32450/1616070760.py:49: FutureWarning: The frame.append method is deprecated and will be removed from pandas in a future version. Use pandas.concat instead.\n",
      "  coin_df = df.append([coin_df])\n"
     ]
    },
    {
     "name": "stdout",
     "output_type": "stream",
     "text": [
      "1 mismatched.\n"
     ]
    },
    {
     "name": "stderr",
     "output_type": "stream",
     "text": [
      "/var/folders/s5/qk1q_v9s245f9h_m0zc4b0v00000gn/T/ipykernel_32450/1616070760.py:42: FutureWarning: The frame.append method is deprecated and will be removed from pandas in a future version. Use pandas.concat instead.\n",
      "  df = df.loc[:insert_ids].append([temp_df]).append(df.loc[insert_ids+1:]).reset_index(drop=True)\n",
      "/var/folders/s5/qk1q_v9s245f9h_m0zc4b0v00000gn/T/ipykernel_32450/1616070760.py:49: FutureWarning: The frame.append method is deprecated and will be removed from pandas in a future version. Use pandas.concat instead.\n",
      "  coin_df = df.append([coin_df])\n",
      "/var/folders/s5/qk1q_v9s245f9h_m0zc4b0v00000gn/T/ipykernel_32450/1616070760.py:53: FutureWarning: The frame.append method is deprecated and will be removed from pandas in a future version. Use pandas.concat instead.\n",
      "  main_df = main_df.append([coin_df])\n"
     ]
    },
    {
     "ename": "KeyError",
     "evalue": "'data'",
     "output_type": "error",
     "traceback": [
      "\u001b[0;31m---------------------------------------------------------------------------\u001b[0m",
      "\u001b[0;31mKeyError\u001b[0m                                  Traceback (most recent call last)",
      "\u001b[1;32m/Users/jamesjlin/Documents/Projects/pythonprojects/Data analysis/Crypto Currency/cryptocurrency.ipynb Cell 4\u001b[0m in \u001b[0;36m2\n\u001b[1;32m     <a href='vscode-notebook-cell:/Users/jamesjlin/Documents/Projects/pythonprojects/Data%20analysis/Crypto%20Currency/cryptocurrency.ipynb#W3sZmlsZQ%3D%3D?line=17'>18</a>\u001b[0m \u001b[39m#we are using the request to fetch the data from the api in the json format and then storing it into the dataframe.\u001b[39;00m\n\u001b[1;32m     <a href='vscode-notebook-cell:/Users/jamesjlin/Documents/Projects/pythonprojects/Data%20analysis/Crypto%20Currency/cryptocurrency.ipynb#W3sZmlsZQ%3D%3D?line=18'>19</a>\u001b[0m temp_data \u001b[39m=\u001b[39m requests\u001b[39m.\u001b[39mget(url)\u001b[39m.\u001b[39mjson()\n\u001b[0;32m---> <a href='vscode-notebook-cell:/Users/jamesjlin/Documents/Projects/pythonprojects/Data%20analysis/Crypto%20Currency/cryptocurrency.ipynb#W3sZmlsZQ%3D%3D?line=19'>20</a>\u001b[0m df \u001b[39m=\u001b[39m pd\u001b[39m.\u001b[39mDataFrame(temp_data[\u001b[39m'\u001b[39;49m\u001b[39mdata\u001b[39;49m\u001b[39m'\u001b[39;49m][\u001b[39m'\u001b[39m\u001b[39mentries\u001b[39m\u001b[39m'\u001b[39m])\n\u001b[1;32m     <a href='vscode-notebook-cell:/Users/jamesjlin/Documents/Projects/pythonprojects/Data%20analysis/Crypto%20Currency/cryptocurrency.ipynb#W3sZmlsZQ%3D%3D?line=20'>21</a>\u001b[0m df\u001b[39m.\u001b[39mcolumns \u001b[39m=\u001b[39m [\u001b[39m'\u001b[39m\u001b[39mTimestamp\u001b[39m\u001b[39m'\u001b[39m, \u001b[39m'\u001b[39m\u001b[39mOpen\u001b[39m\u001b[39m'\u001b[39m, \u001b[39m'\u001b[39m\u001b[39mHigh\u001b[39m\u001b[39m'\u001b[39m, \u001b[39m'\u001b[39m\u001b[39mLow\u001b[39m\u001b[39m'\u001b[39m, \u001b[39m'\u001b[39m\u001b[39mClose\u001b[39m\u001b[39m'\u001b[39m]\n\u001b[1;32m     <a href='vscode-notebook-cell:/Users/jamesjlin/Documents/Projects/pythonprojects/Data%20analysis/Crypto%20Currency/cryptocurrency.ipynb#W3sZmlsZQ%3D%3D?line=22'>23</a>\u001b[0m \u001b[39m# To handle the Missing Data\u001b[39;00m\n",
      "\u001b[0;31mKeyError\u001b[0m: 'data'"
     ]
    }
   ],
   "source": [
    "for coin in coin_list:\n",
    "    coin_df = pd.DataFrame()\n",
    "    df = pd.DataFrame(index=[0])\n",
    "    \n",
    "    # Defining the Start Date and End Date\n",
    "    datetime_end = datetime(2021, 7, 2, 0, 0)\n",
    "    datetime_check = datetime(2021, 7, 1, 0, 0)\n",
    "    \n",
    "    while len(df) > 0:\n",
    "        if datetime_end == datetime_check:\n",
    "            break\n",
    "        \n",
    "        datetime_start = datetime_end - relativedelta(hours = 12)\n",
    "        \n",
    "        #Api for the scrapping\n",
    "        url = 'https://production.api.coindesk.com/v2/price/values/'+ coin +'?start_date='+datetime_start.strftime(\"%Y-%m-%dT%H:%M\") + '&end_date=' + datetime_end.strftime(\"%Y-%m-%dT%H:%M\") + '&ohlc=true'\n",
    "        \n",
    "        #we are using the request to fetch the data from the api in the json format and then storing it into the dataframe.\n",
    "        temp_data = requests.get(url).json()\n",
    "        df = pd.DataFrame(temp_data['data']['entries'])\n",
    "        df.columns = ['Timestamp', 'Open', 'High', 'Low', 'Close']\n",
    "        \n",
    "        # To handle the Missing Data\n",
    "        insert_ids_list = [np.nan]\n",
    "        \n",
    "        '''In numerous occasions, I observed that CoinDesk did not collect every minute of data. \n",
    "        According to observation, in a normal circumstance, the timestamp would have a discrepancy\n",
    "        value of 60000 for 1 minute. As a result, I can quickly tell that the missing period is the\n",
    "        time gap if the row difference for the timestamp is larger than 60000. To deal with it, a\n",
    "        hot-deck imputation procedure is used. To put it another way, the nearest minute data will \n",
    "        be substituted for the missing one.\n",
    "        '''\n",
    "        \n",
    "        while len(insert_ids_list) > 0:\n",
    "            timestamp_checking = np.array(df['Timestamp'][1:]) - np.array(df['Timestamp'][:-1])\n",
    "            insert_ids_list = np.where(timestamp_checking!= 60000)[0]\n",
    "            if len(insert_ids_list) > 0:\n",
    "                print(str(len(insert_ids_list)) + ' mismatched.')\n",
    "                insert_ids = insert_ids_list[0]\n",
    "                temp_df = df.iloc[insert_ids.repeat(int(timestamp_checking[insert_ids]/60000)-1)].reset_index(drop=True)\n",
    "                temp_df['Timestamp'] = [temp_df['Timestamp'][0] + i*60000 for i in range(1, len(temp_df)+1)]\n",
    "                df = df.loc[:insert_ids].append([temp_df]).append(df.loc[insert_ids+1:]).reset_index(drop=True)\n",
    "                insert_ids_list = insert_ids_list[1:]\n",
    "                \n",
    "        \n",
    "        #adding datetime and symbol to dataframe\n",
    "        df = df.drop(['Timestamp'], axis=1)\n",
    "        df['Datetime'] = [datetime_end - relativedelta(minutes=len(df)-i) for i in range(0, len(df))]\n",
    "        coin_df = df.append([coin_df])\n",
    "        datetime_end = datetime_start\n",
    "        \n",
    "    coin_df['Symbol'] = coin\n",
    "    main_df = main_df.append([coin_df])"
   ]
  },
  {
   "cell_type": "code",
   "execution_count": null,
   "metadata": {},
   "outputs": [],
   "source": []
  }
 ],
 "metadata": {
  "kernelspec": {
   "display_name": "Python 3",
   "language": "python",
   "name": "python3"
  },
  "language_info": {
   "codemirror_mode": {
    "name": "ipython",
    "version": 3
   },
   "file_extension": ".py",
   "mimetype": "text/x-python",
   "name": "python",
   "nbconvert_exporter": "python",
   "pygments_lexer": "ipython3",
   "version": "3.10.0"
  },
  "orig_nbformat": 4
 },
 "nbformat": 4,
 "nbformat_minor": 2
}
