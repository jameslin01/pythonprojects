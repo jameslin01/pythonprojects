{
 "cells": [
  {
   "cell_type": "markdown",
   "id": "d06ea46e",
   "metadata": {},
   "source": [
    "# 3. (core)\n",
    "\n",
    "Task: (core) Similarly to results in Homework 3 we can show that there are interesting Julia sets with parameter jp = 0.7885e ai where a is a small non-negative real number. (In Homework 3, we replaced 0.7885 by 0.66.) In fact if we allow a to vary in repeated cycles over [0, 2π] we are able to create a film like animation of Julia sets with this form of parameter. The images in Figure 3 are snapshots of such Julia sets.\n",
    "\n",
    "Your task is to develop a function (using the matplotlib.pyplot tools you developed for Homework 3) to generate a number (for example 200) of image files of the Julia sets with parameter jp = 0.7885e ai where the numbers a are chosen at equally spaced intervals in [0, 2π]. You should then develop a pygame function to display these files as a film like animation. The user should have speed and stop/start control over the animation.\n"
   ]
  },
  {
   "cell_type": "markdown",
   "id": "2cff11a7",
   "metadata": {},
   "source": [
    "The code below creates 200 images files of the Julia set. However you can run the pygame without this as the image files \n",
    "are already in your folder"
   ]
  },
  {
   "cell_type": "code",
   "execution_count": 3,
   "id": "aead99c4",
   "metadata": {},
   "outputs": [
    {
     "name": "stdout",
     "output_type": "stream",
     "text": [
      "pygame 2.2.0 (SDL 2.0.22, Python 3.10.0)\n",
      "Hello from the pygame community. https://www.pygame.org/contribute.html\n"
     ]
    }
   ],
   "source": [
    "import numpy as np\n",
    "import matplotlib.pyplot as plt\n",
    "import pygame"
   ]
  },
  {
   "cell_type": "code",
   "execution_count": 5,
   "id": "d8045a2f",
   "metadata": {},
   "outputs": [],
   "source": [
    "def julia_sets(files_wanted):\n",
    "    a_variables = np.linspace(0, 2*np.pi, files_wanted)\n",
    "    for num in range(files_wanted):\n",
    "        a = a_variables[num]\n",
    "        c = 0.7885*np.exp(1j*a)\n",
    "        z_max = 2\n",
    "        MAXITER = 100\n",
    "        x_vector, y_vector = np.meshgrid(np.linspace(-2, 2, 1000), np.linspace(-2, 2, 1000))\n",
    "        z = 1j*y_vector + x_vector\n",
    "        for n in range(MAXITER):\n",
    "            z = z**2 + c\n",
    "            is_z_greater = np.abs(z) > z_max\n",
    "            z[is_z_greater] = 0\n",
    "        fig = plt.figure(figsize=(5,5), dpi=100)\n",
    "        plt.imshow(np.abs(z), cmap='viridis', extent=[-2, 2, -2, 2])\n",
    "        plt.axis('off')\n",
    "        plt.savefig('julia_sets_{:03d}.png'.format(num))\n",
    "        plt.close(fig)\n"
   ]
  },
  {
   "cell_type": "code",
   "execution_count": 6,
   "id": "33cc333f",
   "metadata": {},
   "outputs": [
    {
     "ename": "KeyboardInterrupt",
     "evalue": "",
     "output_type": "error",
     "traceback": [
      "\u001b[0;31m---------------------------------------------------------------------------\u001b[0m",
      "\u001b[0;31mKeyboardInterrupt\u001b[0m                         Traceback (most recent call last)",
      "\u001b[1;32m/Users/jamesjlin/Documents/Projects/pythonprojects/Q3 Project 7/Question_3_Project.ipynb Cell 5\u001b[0m in \u001b[0;36m1\n\u001b[0;32m----> <a href='vscode-notebook-cell:/Users/jamesjlin/Documents/Projects/pythonprojects/Q3%20Project%207/Question_3_Project.ipynb#W3sZmlsZQ%3D%3D?line=0'>1</a>\u001b[0m julia_sets(\u001b[39m200\u001b[39;49m)\n",
      "\u001b[1;32m/Users/jamesjlin/Documents/Projects/pythonprojects/Q3 Project 7/Question_3_Project.ipynb Cell 5\u001b[0m in \u001b[0;36m1\n\u001b[1;32m     <a href='vscode-notebook-cell:/Users/jamesjlin/Documents/Projects/pythonprojects/Q3%20Project%207/Question_3_Project.ipynb#W3sZmlsZQ%3D%3D?line=9'>10</a>\u001b[0m \u001b[39mfor\u001b[39;00m n \u001b[39min\u001b[39;00m \u001b[39mrange\u001b[39m(MAXITER):\n\u001b[1;32m     <a href='vscode-notebook-cell:/Users/jamesjlin/Documents/Projects/pythonprojects/Q3%20Project%207/Question_3_Project.ipynb#W3sZmlsZQ%3D%3D?line=10'>11</a>\u001b[0m     z \u001b[39m=\u001b[39m z\u001b[39m*\u001b[39m\u001b[39m*\u001b[39m\u001b[39m2\u001b[39m \u001b[39m+\u001b[39m c\n\u001b[0;32m---> <a href='vscode-notebook-cell:/Users/jamesjlin/Documents/Projects/pythonprojects/Q3%20Project%207/Question_3_Project.ipynb#W3sZmlsZQ%3D%3D?line=11'>12</a>\u001b[0m     is_z_greater \u001b[39m=\u001b[39m np\u001b[39m.\u001b[39;49mabs(z) \u001b[39m>\u001b[39m z_max\n\u001b[1;32m     <a href='vscode-notebook-cell:/Users/jamesjlin/Documents/Projects/pythonprojects/Q3%20Project%207/Question_3_Project.ipynb#W3sZmlsZQ%3D%3D?line=12'>13</a>\u001b[0m     z[is_z_greater] \u001b[39m=\u001b[39m \u001b[39m0\u001b[39m\n\u001b[1;32m     <a href='vscode-notebook-cell:/Users/jamesjlin/Documents/Projects/pythonprojects/Q3%20Project%207/Question_3_Project.ipynb#W3sZmlsZQ%3D%3D?line=13'>14</a>\u001b[0m fig \u001b[39m=\u001b[39m plt\u001b[39m.\u001b[39mfigure(figsize\u001b[39m=\u001b[39m(\u001b[39m5\u001b[39m,\u001b[39m5\u001b[39m), dpi\u001b[39m=\u001b[39m\u001b[39m100\u001b[39m)\n",
      "\u001b[0;31mKeyboardInterrupt\u001b[0m: "
     ]
    }
   ],
   "source": [
    " julia_sets(200)"
   ]
  },
  {
   "cell_type": "code",
   "execution_count": 4,
   "id": "67fc456b",
   "metadata": {},
   "outputs": [
    {
     "name": "stdout",
     "output_type": "stream",
     "text": [
      "pygame 2.2.0 (SDL 2.0.22, Python 3.10.0)\n",
      "Hello from the pygame community. https://www.pygame.org/contribute.html\n"
     ]
    }
   ],
   "source": [
    "import numpy as np\n",
    "import matplotlib.pyplot as plt\n",
    "import pygame"
   ]
  },
  {
   "cell_type": "code",
   "execution_count": 12,
   "id": "4a0dc16e",
   "metadata": {},
   "outputs": [],
   "source": [
    "def julia_animation(files_wanted,speed):\n",
    "     \n",
    "    pygame.init()\n",
    "    screen_size = (screen_width, screen_height) = (800, 600)\n",
    "\n",
    "    screen = pygame.display.set_mode(screen_size)\n",
    "    clock = pygame.time.Clock()\n",
    "    #these are my cute captions\n",
    "    pygame.display.set_caption(\"Julia Animation\")\n",
    "    caption = \"Julia Animation\"\n",
    "    caption += '                              '\n",
    "    caption += '(Keystroke:  \\'Space\\' to start or pause)'\n",
    "    pygame.display.set_caption(caption)\n",
    "\n",
    "    screen.fill((255,255,255)) \n",
    "    pygame.display.flip()\n",
    "    \n",
    " \n",
    "    play_anime = False\n",
    "    frame = 0\n",
    "    #This loops through all the images and displays them one after each other until we reach 200 files.\n",
    "    while frame < files_wanted:\n",
    "\n",
    "        julia_anime = 'julia_sets_{:03d}.png'.format(frame)\n",
    "        image = pygame.image.load(julia_anime)\n",
    "        screen.blit(image, (0, 0))\n",
    "        pygame.display.flip()\n",
    "        clock.tick(speed)\n",
    "        for event in pygame.event.get():\n",
    "            if event.type == pygame.QUIT:\n",
    "                pygame.quit()\n",
    "                return\n",
    "            #this allows user to pause animation with the space bar.\n",
    "            if event.type == pygame.KEYDOWN:\n",
    "                if event.key == pygame.K_SPACE:\n",
    "                    play_anime= not play_anime\n",
    "                if event.key == pygame.K_ESCAPE:\n",
    "                    pygame.quit()\n",
    "                    return\n",
    "        if not play_anime:\n",
    "            frame += 1\n",
    "\n",
    "    \n",
    "    pygame.quit()\n",
    "    return None \n"
   ]
  },
  {
   "cell_type": "markdown",
   "id": "abb1d193",
   "metadata": {},
   "source": [
    "Run this code to see the swaggy animation. You can adjust the speed through different input values."
   ]
  },
  {
   "cell_type": "code",
   "execution_count": 13,
   "id": "f2f8ad88",
   "metadata": {},
   "outputs": [],
   "source": [
    "julia_animation(200,3)"
   ]
  },
  {
   "cell_type": "code",
   "execution_count": null,
   "id": "7b1ef996",
   "metadata": {},
   "outputs": [],
   "source": []
  }
 ],
 "metadata": {
  "kernelspec": {
   "display_name": "Python 3 (ipykernel)",
   "language": "python",
   "name": "python3"
  },
  "language_info": {
   "codemirror_mode": {
    "name": "ipython",
    "version": 3
   },
   "file_extension": ".py",
   "mimetype": "text/x-python",
   "name": "python",
   "nbconvert_exporter": "python",
   "pygments_lexer": "ipython3",
   "version": "3.10.0"
  }
 },
 "nbformat": 4,
 "nbformat_minor": 5
}
