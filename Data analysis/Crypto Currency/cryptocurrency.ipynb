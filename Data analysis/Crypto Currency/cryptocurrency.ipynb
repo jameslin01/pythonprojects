{
 "cells": [
  {
   "cell_type": "code",
   "execution_count": 5,
   "metadata": {},
   "outputs": [],
   "source": [
    "# Import Libraries\n",
    "import requests\n",
    "import numpy as np\n",
    "import pandas as pd\n",
    "from datetime import datetime\n",
    "from dateutil.relativedelta import relativedelta"
   ]
  },
  {
   "cell_type": "code",
   "execution_count": 6,
   "metadata": {},
   "outputs": [],
   "source": [
    "# The list of 20 type of cryptocurrency\n",
    "\n",
    "coin_list = ['BTC', 'ETH', 'XRP', 'ADA', 'USDT', 'DOGE', 'XLM', 'DOT', 'UNI', 'UNI', 'LINK', 'USDC' 'BCH' 'LTC', 'GRT', 'ETC', 'FIL', 'AAVE', 'ALGO', 'EOS']"
   ]
  },
  {
   "cell_type": "code",
   "execution_count": 15,
   "metadata": {},
   "outputs": [],
   "source": [
    "# Define the dataframe\n",
    "\n",
    "main_df = pd.DataFrame()"
   ]
  },
  {
   "cell_type": "code",
   "execution_count": 21,
   "metadata": {},
   "outputs": [
    {
     "ename": "AttributeError",
     "evalue": "'DataFrame' object has no attribute 'append'",
     "output_type": "error",
     "traceback": [
      "\u001b[0;31m---------------------------------------------------------------------------\u001b[0m",
      "\u001b[0;31mAttributeError\u001b[0m                            Traceback (most recent call last)",
      "\u001b[1;32m/Users/jamesjlin/Documents/Projects/pythonprojects/Data analysis/Crypto Currency/cryptocurrency.ipynb Cell 4\u001b[0m in \u001b[0;36m4\n\u001b[1;32m     <a href='vscode-notebook-cell:/Users/jamesjlin/Documents/Projects/pythonprojects/Data%20analysis/Crypto%20Currency/cryptocurrency.ipynb#W3sZmlsZQ%3D%3D?line=46'>47</a>\u001b[0m     df \u001b[39m=\u001b[39m df\u001b[39m.\u001b[39mdrop([\u001b[39m'\u001b[39m\u001b[39mTimestamp\u001b[39m\u001b[39m'\u001b[39m], axis\u001b[39m=\u001b[39m\u001b[39m1\u001b[39m)\n\u001b[1;32m     <a href='vscode-notebook-cell:/Users/jamesjlin/Documents/Projects/pythonprojects/Data%20analysis/Crypto%20Currency/cryptocurrency.ipynb#W3sZmlsZQ%3D%3D?line=47'>48</a>\u001b[0m     df[\u001b[39m'\u001b[39m\u001b[39mDatetime\u001b[39m\u001b[39m'\u001b[39m] \u001b[39m=\u001b[39m [datetime_end \u001b[39m-\u001b[39m relativedelta(minutes\u001b[39m=\u001b[39m\u001b[39mlen\u001b[39m(df)\u001b[39m-\u001b[39mi) \u001b[39mfor\u001b[39;00m i \u001b[39min\u001b[39;00m \u001b[39mrange\u001b[39m(\u001b[39m0\u001b[39m, \u001b[39mlen\u001b[39m(df))]\n\u001b[0;32m---> <a href='vscode-notebook-cell:/Users/jamesjlin/Documents/Projects/pythonprojects/Data%20analysis/Crypto%20Currency/cryptocurrency.ipynb#W3sZmlsZQ%3D%3D?line=48'>49</a>\u001b[0m     coin_df \u001b[39m=\u001b[39m df\u001b[39m.\u001b[39;49mappend([coin_df])\n\u001b[1;32m     <a href='vscode-notebook-cell:/Users/jamesjlin/Documents/Projects/pythonprojects/Data%20analysis/Crypto%20Currency/cryptocurrency.ipynb#W3sZmlsZQ%3D%3D?line=49'>50</a>\u001b[0m     datetime_end \u001b[39m=\u001b[39m datetime_start\n\u001b[1;32m     <a href='vscode-notebook-cell:/Users/jamesjlin/Documents/Projects/pythonprojects/Data%20analysis/Crypto%20Currency/cryptocurrency.ipynb#W3sZmlsZQ%3D%3D?line=51'>52</a>\u001b[0m coin_df[\u001b[39m'\u001b[39m\u001b[39mSymbol\u001b[39m\u001b[39m'\u001b[39m] \u001b[39m=\u001b[39m coin\n",
      "File \u001b[0;32m/Library/Frameworks/Python.framework/Versions/3.10/lib/python3.10/site-packages/pandas/core/generic.py:5989\u001b[0m, in \u001b[0;36mNDFrame.__getattr__\u001b[0;34m(self, name)\u001b[0m\n\u001b[1;32m   5982\u001b[0m \u001b[39mif\u001b[39;00m (\n\u001b[1;32m   5983\u001b[0m     name \u001b[39mnot\u001b[39;00m \u001b[39min\u001b[39;00m \u001b[39mself\u001b[39m\u001b[39m.\u001b[39m_internal_names_set\n\u001b[1;32m   5984\u001b[0m     \u001b[39mand\u001b[39;00m name \u001b[39mnot\u001b[39;00m \u001b[39min\u001b[39;00m \u001b[39mself\u001b[39m\u001b[39m.\u001b[39m_metadata\n\u001b[1;32m   5985\u001b[0m     \u001b[39mand\u001b[39;00m name \u001b[39mnot\u001b[39;00m \u001b[39min\u001b[39;00m \u001b[39mself\u001b[39m\u001b[39m.\u001b[39m_accessors\n\u001b[1;32m   5986\u001b[0m     \u001b[39mand\u001b[39;00m \u001b[39mself\u001b[39m\u001b[39m.\u001b[39m_info_axis\u001b[39m.\u001b[39m_can_hold_identifiers_and_holds_name(name)\n\u001b[1;32m   5987\u001b[0m ):\n\u001b[1;32m   5988\u001b[0m     \u001b[39mreturn\u001b[39;00m \u001b[39mself\u001b[39m[name]\n\u001b[0;32m-> 5989\u001b[0m \u001b[39mreturn\u001b[39;00m \u001b[39mobject\u001b[39;49m\u001b[39m.\u001b[39;49m\u001b[39m__getattribute__\u001b[39;49m(\u001b[39mself\u001b[39;49m, name)\n",
      "\u001b[0;31mAttributeError\u001b[0m: 'DataFrame' object has no attribute 'append'"
     ]
    }
   ],
   "source": [
    "for coin in coin_list:\n",
    "    coin_df = pd.DataFrame()\n",
    "    df = pd.DataFrame(index=[0])\n",
    "    \n",
    "    # Defining the Start Date and End Date\n",
    "    datetime_end = datetime(2021, 7, 2, 0, 0)\n",
    "    datetime_check = datetime(2021, 7, 1, 0, 0)\n",
    "    \n",
    "    while len(df) > 0:\n",
    "        if datetime_end == datetime_check:\n",
    "            break\n",
    "        \n",
    "        datetime_start = datetime_end - relativedelta(hours = 12)\n",
    "        \n",
    "        #Api for the scrapping\n",
    "        url = 'https://production.api.coindesk.com/v2/price/values/'+ coin +'?start_date='+datetime_start.strftime(\"%Y-%m-%dT%H:%M\") + '&end_date=' + datetime_end.strftime(\"%Y-%m-%dT%H:%M\") + '&ohlc=true'\n",
    "        \n",
    "        #we are using the request to fetch the data from the api in the json format and then storing it into the dataframe.\n",
    "        temp_data = requests.get(url).json()\n",
    "        df = pd.DataFrame(temp_data['data']['entries'])\n",
    "        df.columns = ['Timestamp', 'Open', 'High', 'Low', 'Close']\n",
    "        \n",
    "        # To handle the Missing Data\n",
    "        insert_ids_list = [np.nan]\n",
    "        \n",
    "        '''In numerous occasions, I observed that CoinDesk did not collect every minute of data. \n",
    "        According to observation, in a normal circumstance, the timestamp would have a discrepancy\n",
    "        value of 60000 for 1 minute. As a result, I can quickly tell that the missing period is the\n",
    "        time gap if the row difference for the timestamp is larger than 60000. To deal with it, a\n",
    "        hot-deck imputation procedure is used. To put it another way, the nearest minute data will \n",
    "        be substituted for the missing one.\n",
    "        '''\n",
    "        \n",
    "        while len(insert_ids_list) > 0:\n",
    "            timestamp_checking = np.array(df['Timestamp'][1:]) - np.array(df['Timestamp'][:-1])\n",
    "            insert_ids_list = np.where(timestamp_checking!= 60000)[0]\n",
    "            if len(insert_ids_list) > 0:\n",
    "                print(str(len(insert_ids_list)) + ' mismatched.')\n",
    "                insert_ids = insert_ids_list[0]\n",
    "                temp_df = df.iloc[insert_ids.repeat(int(timestamp_checking[insert_ids]/60000)-1)].reset_index(drop=True)\n",
    "                temp_df['Timestamp'] = [temp_df['Timestamp'][0] + i*60000 for i in range(1, len(temp_df)+1)]\n",
    "                df = df.loc[:insert_ids].append([temp_df]).append(df.loc[insert_ids+1:]).reset_index(drop=True)\n",
    "                insert_ids_list = insert_ids_list[1:]\n",
    "                \n",
    "        \n",
    "        #adding datetime and symbol to dataframe\n",
    "        df = df.drop(['Timestamp'], axis=1)\n",
    "        df['Datetime'] = [datetime_end - relativedelta(minutes=len(df)-i) for i in range(0, len(df))]\n",
    "        coin_df = df.append([coin_df])\n",
    "        datetime_end = datetime_start\n",
    "        \n",
    "    coin_df['Symbol'] = coin\n",
    "    main_df = main_df.append([coin_df])"
   ]
  },
  {
   "cell_type": "code",
   "execution_count": null,
   "metadata": {},
   "outputs": [],
   "source": []
  }
 ],
 "metadata": {
  "kernelspec": {
   "display_name": "Python 3",
   "language": "python",
   "name": "python3"
  },
  "language_info": {
   "codemirror_mode": {
    "name": "ipython",
    "version": 3
   },
   "file_extension": ".py",
   "mimetype": "text/x-python",
   "name": "python",
   "nbconvert_exporter": "python",
   "pygments_lexer": "ipython3",
   "version": "3.10.0"
  },
  "orig_nbformat": 4
 },
 "nbformat": 4,
 "nbformat_minor": 2
}
